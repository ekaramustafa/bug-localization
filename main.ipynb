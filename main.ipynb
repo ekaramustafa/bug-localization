{
 "cells": [
  {
   "cell_type": "code",
   "execution_count": 1,
   "id": "2c97d92c",
   "metadata": {},
   "outputs": [
    {
     "name": "stderr",
     "output_type": "stream",
     "text": [
      "/Users/karamustafae/Projects/bug_localization/.venv/lib/python3.12/site-packages/tqdm/auto.py:21: TqdmWarning: IProgress not found. Please update jupyter and ipywidgets. See https://ipywidgets.readthedocs.io/en/stable/user_install.html\n",
      "  from .autonotebook import tqdm as notebook_tqdm\n"
     ]
    }
   ],
   "source": [
    "from dataset.beetlebox import BeetleBox "
   ]
  },
  {
   "cell_type": "code",
   "execution_count": 2,
   "id": "9537f550",
   "metadata": {},
   "outputs": [],
   "source": [
    "instance = BeetleBox()"
   ]
  },
  {
   "cell_type": "code",
   "execution_count": null,
   "id": "dcff72e0",
   "metadata": {},
   "outputs": [],
   "source": [
    "bug_instance = instance.get_bug_instances(sample_size=1, random_sample=False)[0]"
   ]
  },
  {
   "cell_type": "code",
   "execution_count": 4,
   "id": "8e5fd224",
   "metadata": {},
   "outputs": [
    {
     "name": "stderr",
     "output_type": "stream",
     "text": [
      "Invalid model specification: qwen-coder-32b, using default: qwen/qwen3-coder:free\n"
     ]
    }
   ],
   "source": [
    "from method.openrouter_localizer import OpenRouterLocalizer\n",
    "localizer = OpenRouterLocalizer()"
   ]
  },
  {
   "cell_type": "code",
   "execution_count": null,
   "id": "00230ad8",
   "metadata": {},
   "outputs": [],
   "source": [
    "localizer.localize(bug_instance)"
   ]
  },
  {
   "cell_type": "code",
   "execution_count": 4,
   "id": "07cb59bf",
   "metadata": {},
   "outputs": [
    {
     "ename": "NameError",
     "evalue": "name 'localizer' is not defined",
     "output_type": "error",
     "traceback": [
      "\u001b[31m---------------------------------------------------------------------------\u001b[39m",
      "\u001b[31mNameError\u001b[39m                                 Traceback (most recent call last)",
      "\u001b[36mCell\u001b[39m\u001b[36m \u001b[39m\u001b[32mIn[4]\u001b[39m\u001b[32m, line 1\u001b[39m\n\u001b[32m----> \u001b[39m\u001b[32m1\u001b[39m \u001b[43mlocalizer\u001b[49m._make_api_request(\u001b[33m\"\u001b[39m\u001b[33mWhat is your output context width\u001b[39m\u001b[33m\"\u001b[39m)\n",
      "\u001b[31mNameError\u001b[39m: name 'localizer' is not defined"
     ]
    }
   ],
   "source": [
    "localizer._make_api_request(\"What is your output context width\")"
   ]
  },
  {
   "cell_type": "code",
   "execution_count": 13,
   "id": "80faedde",
   "metadata": {},
   "outputs": [
    {
     "data": {
      "text/plain": [
       "10620"
      ]
     },
     "execution_count": 13,
     "metadata": {},
     "output_type": "execute_result"
    }
   ],
   "source": [
    "len(bug_instance.code_files)"
   ]
  },
  {
   "cell_type": "code",
   "execution_count": null,
   "id": "f7b7186e",
   "metadata": {},
   "outputs": [],
   "source": []
  }
 ],
 "metadata": {
  "kernelspec": {
   "display_name": ".venv",
   "language": "python",
   "name": "python3"
  },
  "language_info": {
   "codemirror_mode": {
    "name": "ipython",
    "version": 3
   },
   "file_extension": ".py",
   "mimetype": "text/x-python",
   "name": "python",
   "nbconvert_exporter": "python",
   "pygments_lexer": "ipython3",
   "version": "3.12.6"
  }
 },
 "nbformat": 4,
 "nbformat_minor": 5
}
