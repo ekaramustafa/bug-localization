{
 "cells": [
  {
   "cell_type": "code",
   "execution_count": 1,
   "id": "2c97d92c",
   "metadata": {},
   "outputs": [
    {
     "name": "stderr",
     "output_type": "stream",
     "text": [
      "/Users/karamustafae/Projects/bug_localization/.venv/lib/python3.12/site-packages/tqdm/auto.py:21: TqdmWarning: IProgress not found. Please update jupyter and ipywidgets. See https://ipywidgets.readthedocs.io/en/stable/user_install.html\n",
      "  from .autonotebook import tqdm as notebook_tqdm\n"
     ]
    }
   ],
   "source": [
    "from dataset.beetlebox import BeetleBox\n",
    "from dataset.swebench import SWEBench"
   ]
  },
  {
   "cell_type": "code",
   "execution_count": 2,
   "id": "9537f550",
   "metadata": {},
   "outputs": [],
   "source": [
    "# instance = BeetleBox()\n",
    "instance = SWEBench()"
   ]
  },
  {
   "cell_type": "code",
   "execution_count": null,
   "id": "dcff72e0",
   "metadata": {},
   "outputs": [],
   "source": [
    "bug_instance = instance.get_bug_instances(sample_size=1, random_sample=False)[0]"
   ]
  },
  {
   "cell_type": "code",
   "execution_count": 6,
   "id": "8e5fd224",
   "metadata": {},
   "outputs": [
    {
     "name": "stderr",
     "output_type": "stream",
     "text": [
      "Invalid model specification: qwen-coder-32b, using default: qwen/qwen3-coder:free\n"
     ]
    }
   ],
   "source": [
    "from method.openrouter_localizer import OpenRouterLocalizer\n",
    "localizer = OpenRouterLocalizer()"
   ]
  },
  {
   "cell_type": "code",
   "execution_count": 8,
   "id": "00230ad8",
   "metadata": {},
   "outputs": [
    {
     "data": {
      "text/plain": [
       "OpenAILocalizerResponse(candidate_files=['astropy/wcs/wcsapi/fitswcs.py', 'astropy/wcs/wcs.py', 'astropy/wcs/wcsapi/high_level_wcs_wrapper.py', 'astropy/wcs/wcsapi/wrappers/sliced_wcs.py', 'astropy/visualization/wcsaxes/core.py', 'astropy/wcs/wcsapi/high_level_api.py', 'astropy/wcs/wcsapi/low_level_api.py', 'astropy/visualization/wcsaxes/wcsapi.py', 'astropy/wcs/wcsapi/utils.py', 'astropy/wcs/wcsapi/wrappers/base.py'])"
      ]
     },
     "execution_count": 8,
     "metadata": {},
     "output_type": "execute_result"
    }
   ],
   "source": [
    "localizer.localize(bug_instance)"
   ]
  },
  {
   "cell_type": "code",
   "execution_count": 9,
   "id": "b73b7aac",
   "metadata": {},
   "outputs": [
    {
     "data": {
      "text/plain": [
       "['astropy/wcs/wcsapi/fitswcs.py']"
      ]
     },
     "execution_count": 9,
     "metadata": {},
     "output_type": "execute_result"
    }
   ],
   "source": [
    "bug_instance.ground_truths"
   ]
  },
  {
   "cell_type": "markdown",
   "id": "5f09ba6a",
   "metadata": {},
   "source": [
    "## Full Evaluation"
   ]
  },
  {
   "cell_type": "code",
   "execution_count": 16,
   "id": "0637c541",
   "metadata": {},
   "outputs": [],
   "source": [
    "instance = SWEBench()"
   ]
  },
  {
   "cell_type": "code",
   "execution_count": 18,
   "id": "80faedde",
   "metadata": {},
   "outputs": [],
   "source": [
    "bug_instances = instance.get_bug_instances()"
   ]
  },
  {
   "cell_type": "code",
   "execution_count": null,
   "id": "6a9b5437",
   "metadata": {},
   "outputs": [],
   "source": [
    "from method.openai_localizer import OpenAILocalizer\n",
    "from method.openrouter_localizer import OpenRouterLocalizer\n",
    "\n",
    "localizer = OpenAILocalizer()\n",
    "responses = {}\n",
    "for i, bug in enumerate(bug_instances): \n",
    "    response = localizer.localize(bug)\n",
    "    responses[bug.instance_id] = {'bug': bug, 'response': response}\n"
   ]
  },
  {
   "cell_type": "code",
   "execution_count": null,
   "id": "9f8d1882",
   "metadata": {},
   "outputs": [],
   "source": [
    "evaluator = Evaluator()\n",
    "results = evaluator.evaluate(responses)"
   ]
  }
 ],
 "metadata": {
  "kernelspec": {
   "display_name": ".venv",
   "language": "python",
   "name": "python3"
  },
  "language_info": {
   "codemirror_mode": {
    "name": "ipython",
    "version": 3
   },
   "file_extension": ".py",
   "mimetype": "text/x-python",
   "name": "python",
   "nbconvert_exporter": "python",
   "pygments_lexer": "ipython3",
   "version": "3.12.6"
  }
 },
 "nbformat": 4,
 "nbformat_minor": 5
}
