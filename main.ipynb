{
 "cells": [
  {
   "cell_type": "code",
   "execution_count": 1,
   "id": "2c97d92c",
   "metadata": {},
   "outputs": [
    {
     "name": "stderr",
     "output_type": "stream",
     "text": [
      "/Users/karamustafae/Projects/bug_localization/.venv/lib/python3.12/site-packages/tqdm/auto.py:21: TqdmWarning: IProgress not found. Please update jupyter and ipywidgets. See https://ipywidgets.readthedocs.io/en/stable/user_install.html\n",
      "  from .autonotebook import tqdm as notebook_tqdm\n"
     ]
    }
   ],
   "source": [
    "from dataset.beetlebox import BeetleBox\n",
    "from dataset.swebench import SWEBench"
   ]
  },
  {
   "cell_type": "code",
   "execution_count": 3,
   "id": "9537f550",
   "metadata": {},
   "outputs": [],
   "source": [
    "# instance = BeetleBox()\n",
    "instance = SWEBench()"
   ]
  },
  {
   "cell_type": "code",
   "execution_count": 7,
   "id": "dcff72e0",
   "metadata": {},
   "outputs": [],
   "source": [
    "bug_instances = instance.get_bug_instances(sample_size=500)"
   ]
  },
  {
   "cell_type": "code",
   "execution_count": 9,
   "id": "1fc89610",
   "metadata": {},
   "outputs": [
    {
     "data": {
      "text/plain": [
       "498"
      ]
     },
     "execution_count": 9,
     "metadata": {},
     "output_type": "execute_result"
    }
   ],
   "source": [
    "len(bug_instances)"
   ]
  },
  {
   "cell_type": "code",
   "execution_count": 6,
   "id": "8e5fd224",
   "metadata": {},
   "outputs": [
    {
     "name": "stderr",
     "output_type": "stream",
     "text": [
      "Invalid model specification: qwen-coder-32b, using default: qwen/qwen3-coder:free\n"
     ]
    }
   ],
   "source": [
    "from method.openrouter_localizer import OpenRouterLocalizer\n",
    "localizer = OpenRouterLocalizer()"
   ]
  },
  {
   "cell_type": "code",
   "execution_count": 8,
   "id": "00230ad8",
   "metadata": {},
   "outputs": [
    {
     "data": {
      "text/plain": [
       "OpenAILocalizerResponse(candidate_files=['astropy/wcs/wcsapi/fitswcs.py', 'astropy/wcs/wcs.py', 'astropy/wcs/wcsapi/high_level_wcs_wrapper.py', 'astropy/wcs/wcsapi/wrappers/sliced_wcs.py', 'astropy/visualization/wcsaxes/core.py', 'astropy/wcs/wcsapi/high_level_api.py', 'astropy/wcs/wcsapi/low_level_api.py', 'astropy/visualization/wcsaxes/wcsapi.py', 'astropy/wcs/wcsapi/utils.py', 'astropy/wcs/wcsapi/wrappers/base.py'])"
      ]
     },
     "execution_count": 8,
     "metadata": {},
     "output_type": "execute_result"
    }
   ],
   "source": [
    "localizer.localize(bug_instance)"
   ]
  },
  {
   "cell_type": "code",
   "execution_count": 9,
   "id": "b73b7aac",
   "metadata": {},
   "outputs": [
    {
     "data": {
      "text/plain": [
       "['astropy/wcs/wcsapi/fitswcs.py']"
      ]
     },
     "execution_count": 9,
     "metadata": {},
     "output_type": "execute_result"
    }
   ],
   "source": [
    "bug_instance.ground_truths"
   ]
  },
  {
   "cell_type": "markdown",
   "id": "5f09ba6a",
   "metadata": {},
   "source": [
    "## Full Evaluation"
   ]
  },
  {
   "cell_type": "code",
   "execution_count": 16,
   "id": "0637c541",
   "metadata": {},
   "outputs": [],
   "source": [
    "instance = SWEBench()"
   ]
  },
  {
   "cell_type": "code",
   "execution_count": 18,
   "id": "80faedde",
   "metadata": {},
   "outputs": [],
   "source": [
    "bug_instances = instance.get_bug_instances()"
   ]
  },
  {
   "cell_type": "code",
   "execution_count": 22,
   "id": "6a9b5437",
   "metadata": {},
   "outputs": [
    {
     "name": "stderr",
     "output_type": "stream",
     "text": [
      "Error processing chunk 3: Error code: 429 - {'error': {'message': 'You exceeded your current quota, please check your plan and billing details. For more information on this error, read the docs: https://platform.openai.com/docs/guides/error-codes/api-errors.', 'type': 'insufficient_quota', 'param': None, 'code': 'insufficient_quota'}}\n",
      "Error during aggregation: Error code: 429 - {'error': {'message': 'You exceeded your current quota, please check your plan and billing details. For more information on this error, read the docs: https://platform.openai.com/docs/guides/error-codes/api-errors.', 'type': 'insufficient_quota', 'param': None, 'code': 'insufficient_quota'}}\n"
     ]
    },
    {
     "ename": "Exception",
     "evalue": "Request failed: 429, {\n    \"error\": {\n        \"message\": \"You exceeded your current quota, please check your plan and billing details. For more information on this error, read the docs: https://platform.openai.com/docs/guides/error-codes/api-errors.\",\n        \"type\": \"insufficient_quota\",\n        \"param\": null,\n        \"code\": \"insufficient_quota\"\n    }\n}\n",
     "output_type": "error",
     "traceback": [
      "\u001b[31m---------------------------------------------------------------------------\u001b[39m",
      "\u001b[31mException\u001b[39m                                 Traceback (most recent call last)",
      "\u001b[36mCell\u001b[39m\u001b[36m \u001b[39m\u001b[32mIn[22]\u001b[39m\u001b[32m, line 14\u001b[39m\n\u001b[32m     12\u001b[39m index = random.randint(\u001b[32m0\u001b[39m, \u001b[38;5;28mlen\u001b[39m(bug_instances)-\u001b[32m1\u001b[39m)\n\u001b[32m     13\u001b[39m \u001b[38;5;28;01mfor\u001b[39;00m i, bug \u001b[38;5;129;01min\u001b[39;00m \u001b[38;5;28menumerate\u001b[39m(bug_instances[index:index+\u001b[32m50\u001b[39m]): \n\u001b[32m---> \u001b[39m\u001b[32m14\u001b[39m     response = \u001b[43mlocalizer\u001b[49m\u001b[43m.\u001b[49m\u001b[43mlocalize\u001b[49m\u001b[43m(\u001b[49m\u001b[43mbug\u001b[49m\u001b[43m)\u001b[49m\n\u001b[32m     15\u001b[39m     data = {\n\u001b[32m     16\u001b[39m         \u001b[33m'\u001b[39m\u001b[33mbug_id\u001b[39m\u001b[33m'\u001b[39m: bug.instance_id,\n\u001b[32m     17\u001b[39m         \u001b[33m'\u001b[39m\u001b[33mground_truths\u001b[39m\u001b[33m'\u001b[39m: bug.ground_truths,\n\u001b[32m     18\u001b[39m         \u001b[33m'\u001b[39m\u001b[33mresponse\u001b[39m\u001b[33m'\u001b[39m: response\n\u001b[32m     19\u001b[39m     }\n\u001b[32m     21\u001b[39m     filename = \u001b[33mf\u001b[39m\u001b[33m\"\u001b[39m\u001b[38;5;132;01m{\u001b[39;00moutput_dir\u001b[38;5;132;01m}\u001b[39;00m\u001b[33m/response_\u001b[39m\u001b[38;5;132;01m{\u001b[39;00mbug.instance_id\u001b[38;5;132;01m}\u001b[39;00m\u001b[33m.json\u001b[39m\u001b[33m\"\u001b[39m\n",
      "\u001b[36mFile \u001b[39m\u001b[32m~/Projects/bug_localization/method/openai_localizer.py:40\u001b[39m, in \u001b[36mOpenAILocalizer.localize\u001b[39m\u001b[34m(self, bug, max_prompt_tokens, max_chunk_tokens)\u001b[39m\n\u001b[32m     38\u001b[39m \u001b[38;5;28;01mif\u001b[39;00m token_count > \u001b[32m4096\u001b[39m:\n\u001b[32m     39\u001b[39m     prompt = \u001b[38;5;28mself\u001b[39m.prompt_generator.generate_openai_report_summarizer_prompt(bug)\n\u001b[32m---> \u001b[39m\u001b[32m40\u001b[39m     bug_report = \u001b[38;5;28;43mself\u001b[39;49m\u001b[43m.\u001b[49m\u001b[43mllm\u001b[49m\u001b[43m.\u001b[49m\u001b[43minvoke\u001b[49m\u001b[43m(\u001b[49m\u001b[43mprompt\u001b[49m\u001b[43m)\u001b[49m\n\u001b[32m     41\u001b[39m     \u001b[38;5;66;03m# Update the bug object with the summarized report\u001b[39;00m\n\u001b[32m     42\u001b[39m     bug.bug_report = bug_report\n",
      "\u001b[36mFile \u001b[39m\u001b[32m~/Projects/bug_localization/method/llm.py:119\u001b[39m, in \u001b[36minvoke\u001b[39m\u001b[34m(self, prompt, model_type)\u001b[39m\n\u001b[32m    116\u001b[39m full_model_name = \u001b[38;5;28mself\u001b[39m._get_model_name(model)\n\u001b[32m    118\u001b[39m \u001b[38;5;28;01mif\u001b[39;00m \u001b[38;5;28mself\u001b[39m.use_openrouter:\n\u001b[32m--> \u001b[39m\u001b[32m119\u001b[39m     json_schema = \u001b[38;5;28mself\u001b[39m._pydantic_to_json_schema(text_format)\n\u001b[32m    120\u001b[39m     schema_description = json.dumps(json_schema, indent=\u001b[32m2\u001b[39m)\n\u001b[32m    121\u001b[39m     structured_prompt = \u001b[33mf\u001b[39m\u001b[33m\"\"\"\u001b[39m\u001b[38;5;132;01m{\u001b[39;00mprompt\u001b[38;5;132;01m}\u001b[39;00m\n\u001b[32m    122\u001b[39m \n\u001b[32m    123\u001b[39m \u001b[33m    Please respond with a valid JSON object that matches this exact schema:\u001b[39m\n\u001b[32m    124\u001b[39m \u001b[33m    \u001b[39m\u001b[38;5;132;01m{\u001b[39;00mschema_description\u001b[38;5;132;01m}\u001b[39;00m\n\u001b[32m    125\u001b[39m \n\u001b[32m    126\u001b[39m \u001b[33m    Respond ONLY with the JSON object, no additional text.\u001b[39m\u001b[33m\"\"\"\u001b[39m\n",
      "\u001b[31mException\u001b[39m: Request failed: 429, {\n    \"error\": {\n        \"message\": \"You exceeded your current quota, please check your plan and billing details. For more information on this error, read the docs: https://platform.openai.com/docs/guides/error-codes/api-errors.\",\n        \"type\": \"insufficient_quota\",\n        \"param\": null,\n        \"code\": \"insufficient_quota\"\n    }\n}\n"
     ]
    }
   ],
   "source": [
    "import json\n",
    "import os\n",
    "from method.openai_localizer import OpenAILocalizer\n",
    "from method.openrouter_localizer import OpenRouterLocalizer\n",
    "\n",
    "output_dir = \"responses\"\n",
    "os.makedirs(output_dir, exist_ok=True)\n",
    "\n",
    "localizer = OpenAILocalizer()\n",
    "responses = {}\n",
    "import random\n",
    "index = random.randint(0, len(bug_instances)-1)\n",
    "for i, bug in enumerate(bug_instances[index:index+50]): \n",
    "    response = localizer.localize(bug)\n",
    "    data = {\n",
    "        'bug_id': bug.instance_id,\n",
    "        'ground_truths': bug.ground_truths,\n",
    "        'response': response\n",
    "    }\n",
    "    \n",
    "    filename = f\"{output_dir}/response_{bug.instance_id}.json\"\n",
    "    with open(filename, \"w\", encoding=\"utf-8\") as f:\n",
    "        json.dump(data, f, indent=4, ensure_ascii=False, default=str)\n",
    "    \n",
    "    responses[bug.instance_id] = data"
   ]
  },
  {
   "cell_type": "code",
   "execution_count": null,
   "id": "edb8d2f9",
   "metadata": {},
   "outputs": [],
   "source": [
    "with open(\"localization_results.json\", \"w\", encoding=\"utf-8\") as f:\n",
    "    json.dump(responses, f, indent=4, ensure_ascii=False)"
   ]
  },
  {
   "cell_type": "code",
   "execution_count": null,
   "id": "9f8d1882",
   "metadata": {},
   "outputs": [],
   "source": [
    "evaluator = Evaluator()\n",
    "results = evaluator.evaaluate(responses)"
   ]
  }
 ],
 "metadata": {
  "kernelspec": {
   "display_name": ".venv",
   "language": "python",
   "name": "python3"
  },
  "language_info": {
   "codemirror_mode": {
    "name": "ipython",
    "version": 3
   },
   "file_extension": ".py",
   "mimetype": "text/x-python",
   "name": "python",
   "nbconvert_exporter": "python",
   "pygments_lexer": "ipython3",
   "version": "3.12.6"
  }
 },
 "nbformat": 4,
 "nbformat_minor": 5
}
